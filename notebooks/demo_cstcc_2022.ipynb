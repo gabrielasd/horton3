{
 "cells": [
  {
   "cell_type": "markdown",
   "metadata": {},
   "source": [
    "# HORTON3 Notebook"
   ]
  },
  {
   "cell_type": "code",
   "execution_count": 1,
   "metadata": {},
   "outputs": [],
   "source": [
    "import numpy as np"
   ]
  },
  {
   "cell_type": "markdown",
   "metadata": {},
   "source": [
    "## For Google Colab: Install Packages"
   ]
  },
  {
   "cell_type": "code",
   "execution_count": null,
   "metadata": {},
   "outputs": [],
   "source": [
    "! pip install git+https://github.com/theochem/iodata.git\n",
    "! pip install git+https://github.com/theochem/grid.git\n",
    "! pip install git+https://github.com/theochem/gbasis.git\n",
    "! pip install git+https://github.com/theochem/denspart.git"
   ]
  },
  {
   "cell_type": "markdown",
   "metadata": {},
   "source": [
    "## For Goole Colab: Download Example file"
   ]
  },
  {
   "cell_type": "code",
   "execution_count": null,
   "metadata": {},
   "outputs": [],
   "source": [
    "# download the example files\n",
    "import os\n",
    "from urllib.request import urlretrieve\n",
    "\n",
    "fpath = \"data/\"\n",
    "if not os.path.exists(fpath):\n",
    "    os.makedirs(fpath, exist_ok=True)\n",
    "\n",
    "urlretrieve(\n",
    "    \"https://raw.githubusercontent.com/theochem/horton3/master/notebooks/data/h2o_sto3g.fchk\",\n",
    "    os.path.join(fpath, \"h2o_sto3g.fchk\")\n",
    "    )"
   ]
  },
  {
   "cell_type": "markdown",
   "metadata": {},
   "source": [
    "## IOData\n",
    "\n",
    "[GitHub Repository](https://github.com/theochem/iodata) | [Webpage](https://iodata.qcdevs.org/) | [Publication](https://onlinelibrary.wiley.com/doi/10.1002/jcc.26468)"
   ]
  },
  {
   "cell_type": "code",
   "execution_count": 2,
   "metadata": {},
   "outputs": [],
   "source": [
    "from iodata import load_one"
   ]
  },
  {
   "cell_type": "markdown",
   "metadata": {},
   "source": [
    "Check [IOData Webpage](https://iodata.qcdevs.org/) for list of supported file formats and properties."
   ]
  },
  {
   "cell_type": "code",
   "execution_count": 3,
   "metadata": {},
   "outputs": [
    {
     "name": "stdout",
     "output_type": "stream",
     "text": [
      "Number of atoms    =  3\n",
      "Atomic numbers     =  [8 1 1]\n",
      "Atomic coordinates = \n",
      "[[-4.44734101  3.39697999  0.        ]\n",
      " [-2.58401495  3.55136194  0.        ]\n",
      " [-4.92380519  5.2049622   0.        ]]\n",
      "\n",
      "MO Occupations =  [2. 2. 2. 2. 2. 0. 0.]\n",
      "MO Energies    =  [-20.2515759   -1.25754909  -0.59385665  -0.45972894  -0.39261675\n",
      "   0.58179435   0.69267699]\n"
     ]
    }
   ],
   "source": [
    "mol = load_one(\"data/h2o_sto3g.fchk\")\n",
    "\n",
    "print(\"Number of atoms    = \", mol.natom)\n",
    "print(\"Atomic numbers     = \", mol.atnums)\n",
    "print(\"Atomic coordinates = \")\n",
    "print(mol.atcoords)\n",
    "print(\"\")\n",
    "print(\"MO Occupations = \", mol.mo.occs)\n",
    "print(\"MO Energies    = \", mol.mo.energies)"
   ]
  },
  {
   "cell_type": "markdown",
   "metadata": {},
   "source": [
    "## Grid\n",
    "\n",
    "[GitHub Repository](https://github.com/theochem/grid) | [Webpage](https://grid.qcdevs.org/)"
   ]
  },
  {
   "cell_type": "code",
   "execution_count": 4,
   "metadata": {},
   "outputs": [],
   "source": [
    "from grid.becke import BeckeWeights\n",
    "from grid.molgrid import MolGrid\n",
    "from grid.onedgrid import GaussChebyshev\n",
    "from grid.rtransform import BeckeRTransform"
   ]
  },
  {
   "cell_type": "code",
   "execution_count": 5,
   "metadata": {},
   "outputs": [
    {
     "name": "stdout",
     "output_type": "stream",
     "text": [
      "Grid points shape  =  (33000, 3)\n",
      "Grid weights shape =  (33000,)\n"
     ]
    }
   ],
   "source": [
    "# Make molecular grid (using grid package)\n",
    "oned = GaussChebyshev(100)\n",
    "rgrid = BeckeRTransform(1e-4, 1.5).transform_1d_grid(oned)\n",
    "grid = MolGrid.from_size(mol.atnums, mol.atcoords, rgrid, 110, BeckeWeights())\n",
    "\n",
    "print(\"Grid points shape  = \", grid.points.shape)\n",
    "print(\"Grid weights shape = \", grid.weights.shape)"
   ]
  },
  {
   "cell_type": "markdown",
   "metadata": {},
   "source": [
    "## GBasis\n",
    "\n",
    "[GitHub Repository](https://github.com/theochem/gbasis)"
   ]
  },
  {
   "cell_type": "code",
   "execution_count": 6,
   "metadata": {},
   "outputs": [],
   "source": [
    "from gbasis.wrappers import from_iodata\n",
    "from gbasis.evals.density import evaluate_density"
   ]
  },
  {
   "cell_type": "code",
   "execution_count": 7,
   "metadata": {},
   "outputs": [
    {
     "name": "stdout",
     "output_type": "stream",
     "text": [
      "Density shape =  (33000,)\n"
     ]
    }
   ],
   "source": [
    "# Compute molecular density (using gbasis package)\n",
    "one_rdm = mol.one_rdms.get(\"post_scf\", mol.one_rdms.get(\"scf\"))\n",
    "if one_rdm is None:\n",
    "    if mol.mo is None:\n",
    "        raise ValueError(\n",
    "            \"The input file lacks wavefunction data with which \"\n",
    "            \"the density can be computed.\"\n",
    "        )\n",
    "    coeffs, occs = mol.mo.coeffs, mol.mo.occs\n",
    "    one_rdm = np.dot(coeffs * occs, coeffs.T)\n",
    "basis = from_iodata(mol)\n",
    "density = evaluate_density(one_rdm, basis[0], grid.points, coord_type=basis[1])\n",
    "\n",
    "print(\"Density shape = \", density.shape)"
   ]
  },
  {
   "cell_type": "code",
   "execution_count": 8,
   "metadata": {},
   "outputs": [
    {
     "name": "stdout",
     "output_type": "stream",
     "text": [
      "Integral Density =  10.000088051536862\n"
     ]
    }
   ],
   "source": [
    "# Integrate electron density\n",
    "print(\"Integral Density = \", grid.integrate(density))"
   ]
  },
  {
   "cell_type": "markdown",
   "metadata": {},
   "source": [
    "## Denspart\n",
    "\n",
    "[GitHub Repository](https://github.com/theochem/denspart)"
   ]
  },
  {
   "cell_type": "code",
   "execution_count": 9,
   "metadata": {},
   "outputs": [],
   "source": [
    "from denspart.mbis import MBISProModel\n",
    "from denspart.vh import optimize_reduce_pro_model\n",
    "from denspart.properties import compute_radial_moments, compute_multipole_moments, safe_ratio"
   ]
  },
  {
   "cell_type": "markdown",
   "metadata": {},
   "source": [
    "For details, check [MBIS Method (Publication)](https://pubs.acs.org/doi/abs/10.1021/acs.jctc.6b00456)."
   ]
  },
  {
   "cell_type": "code",
   "execution_count": 12,
   "metadata": {},
   "outputs": [
    {
     "name": "stdout",
     "output_type": "stream",
     "text": [
      "Building local grids\n",
      "Integral of density: 10.000088051536862\n",
      "Optimization\n",
      "#Iter  #Call         ekld          kld  -constraint     grad.rms  cputime (s)\n",
      "-----  -----  -----------  -----------  -----------  -----------  -----------\n",
      "    1      1    0.5936396    0.5937277  -8.8052e-05   2.4770e-01    0.0184420\n",
      "    2      6    0.3753745    0.2911400   8.4234e-02   1.2533e-01    0.0131760\n",
      "    3     12    0.2686959    0.1705651   9.8131e-02   6.2372e-02    0.0131140\n",
      "    4     12    0.2686959    0.1705651   9.8131e-02   6.2372e-02    0.0131140\n",
      "    5     19    0.2305333    0.1914995   3.9034e-02   1.2143e-02    0.0138760\n",
      "    6     19    0.2305333    0.1914995   3.9034e-02   1.2143e-02    0.0138760\n",
      "    7     28    0.2244087    0.2004450   2.3964e-02   2.7907e-03    0.0129970\n",
      "    8     28    0.2244087    0.2004450   2.3964e-02   2.7907e-03    0.0129970\n",
      "    9     35    0.2242477    0.2167734   7.4743e-03   7.5061e-04    0.0141250\n",
      "   10     35    0.2242477    0.2167734   7.4743e-03   7.5061e-04    0.0141250\n",
      "   11     44    0.2242019    0.2246797  -4.7780e-04   1.6098e-04    0.0142210\n",
      "   12     48    0.2242017    0.2235887   6.1297e-04   1.5026e-04    0.0141180\n",
      "   13     48    0.2242017    0.2235887   6.1297e-04   1.5026e-04    0.0141180\n",
      "   14     54    0.2242016    0.2242936  -9.2044e-05   2.5067e-05    0.0154440\n",
      "   15     54    0.2242016    0.2242936  -9.2044e-05   2.5067e-05    0.0154440\n",
      "   16     61    0.2242016    0.2241678   3.3836e-05   6.3994e-06    0.0143170\n",
      "   17     61    0.2242016    0.2241678   3.3836e-05   6.3994e-06    0.0143170\n",
      "   18     71    0.2242016    0.2241966   4.9847e-06   9.7110e-07    0.0151450\n",
      "-----  -----------  -----------  -----------  -----------  -----------\n",
      "Optimizer message: \"`gtol` termination condition is satisfied.\"\n",
      "Total charge:             -8.8051537e-05\n",
      "Sum atomic charges:       -9.3036238e-05\n",
      "Promodel\n",
      " ifn iatom  atn       parameters...\n",
      "   0     0    8       1.48540091     18.89314816\n",
      "   1     0    8       7.05786445      2.68721003\n",
      "   2     1    1       0.72833905      2.76425462\n",
      "   3     2    1       0.72848862      2.76378949\n",
      "Computing additional properties\n",
      "\n",
      "Atomic Charges    =  [-0.54326536  0.27166095  0.27151138]\n",
      "\n",
      "Atomic Multipoles =  [[ 1.04745143e-04 -9.33355711e-03 -1.33920041e-02  1.22939416e-01\n",
      "   4.48009815e-05  4.24557946e-05  4.06195508e-03 -1.14432543e-02\n",
      "  -2.39832941e-04 -8.58931843e-02 -1.22797186e-01 -1.60549248e-05\n",
      "  -1.32617237e-03  3.97345024e-01 -1.11802786e-01 -2.20659563e-01\n",
      "   3.99503623e-04  1.39984834e-03  5.86182561e-03 -9.79855742e-03\n",
      "   2.63035289e-03 -3.74615380e-03 -2.02834666e-01 -1.60440407e-01]\n",
      " [-1.23614906e-04 -5.54241854e-03  1.91424950e-03 -1.34547631e-02\n",
      "  -8.92862591e-05  1.12526803e-05  2.77729044e-02 -5.55175678e-03\n",
      "   7.53131275e-05  1.02616193e-02 -5.30369067e-03 -1.50920325e-06\n",
      "   3.11436893e-04 -1.20321700e-02 -1.56309913e-02 -3.48660921e-02\n",
      "  -3.03514175e-04  2.55923253e-04  4.49109890e-02  2.75582797e-03\n",
      "  -7.94719256e-05  7.76508515e-04 -3.81110635e-02  4.12318124e-02]\n",
      " [-2.99395466e-05  3.52168336e-03 -4.64458515e-03 -1.33272401e-02\n",
      "   1.14942576e-04 -6.69365788e-05 -1.80487947e-02 -2.18395718e-02\n",
      "  -7.46818111e-05 -8.41804219e-03  8.33210095e-03  1.68784283e-04\n",
      "   2.40438937e-04 -2.38186664e-03  1.94830268e-02 -3.52646007e-02\n",
      "   5.70811452e-04 -3.75132880e-04 -3.68835157e-02 -2.70975429e-02\n",
      "  -1.96194797e-04  3.33176437e-04  3.27662694e-02 -4.59356597e-02]]\n"
     ]
    }
   ],
   "source": [
    "# MBIS partitioning (using denspart package)\n",
    "pro_model_init = MBISProModel.from_geometry(mol.atnums, mol.atcoords)\n",
    "\n",
    "pro_model, localgrids = optimize_reduce_pro_model(\n",
    "    pro_model_init,\n",
    "    grid,\n",
    "    density,\n",
    "    # args.gtol,\n",
    "    # args.maxiter,\n",
    "    # args.density_cutoff,\n",
    ")\n",
    "print(\"Promodel\")\n",
    "pro_model.pprint()\n",
    "\n",
    "print(\"Computing additional properties\")\n",
    "results = pro_model.to_dict()\n",
    "\n",
    "results.update(\n",
    "    {\n",
    "        \"charges\": pro_model.charges,\n",
    "        \"radial_moments\": compute_radial_moments(\n",
    "            pro_model, grid, density, localgrids\n",
    "        ),\n",
    "        \"multipole_moments\": compute_multipole_moments(\n",
    "            pro_model, grid, density, localgrids\n",
    "        ),\n",
    "        # \"gtol\": args.gtol,\n",
    "        # \"maxiter\": args.maxiter,\n",
    "        # \"density_cutoff\": args.density_cutoff,\n",
    "    }\n",
    ")\n",
    "# np.savez_compressed(args.out_npz, **results)\n",
    "print(\"\")\n",
    "print(\"Atomic Charges    = \", results[\"charges\"])\n",
    "print(\"\")\n",
    "print(\"Atomic Multipoles = \", results[\"multipole_moments\"])"
   ]
  }
 ],
 "metadata": {
  "kernelspec": {
   "display_name": "Python 3",
   "language": "python",
   "name": "python3"
  },
  "language_info": {
   "codemirror_mode": {
    "name": "ipython",
    "version": 3
   },
   "file_extension": ".py",
   "mimetype": "text/x-python",
   "name": "python",
   "nbconvert_exporter": "python",
   "pygments_lexer": "ipython3",
   "version": "3.6.10"
  },
  "toc": {
   "base_numbering": 1,
   "nav_menu": {},
   "number_sections": true,
   "sideBar": true,
   "skip_h1_title": false,
   "title_cell": "Table of Contents",
   "title_sidebar": "Contents",
   "toc_cell": false,
   "toc_position": {},
   "toc_section_display": true,
   "toc_window_display": false
  }
 },
 "nbformat": 4,
 "nbformat_minor": 4
}

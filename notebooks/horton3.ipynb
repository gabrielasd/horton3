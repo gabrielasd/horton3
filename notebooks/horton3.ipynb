{
 "cells": [
  {
   "cell_type": "markdown",
   "metadata": {},
   "source": [
    "# HORTON3 Notebook"
   ]
  },
  {
   "cell_type": "code",
   "execution_count": 1,
   "metadata": {},
   "outputs": [],
   "source": [
    "import numpy as np"
   ]
  },
  {
   "cell_type": "markdown",
   "metadata": {},
   "source": [
    "## IOData\n",
    "\n",
    "For more information check [IOData GitHub repository](https://github.com/theochem/iodata)"
   ]
  },
  {
   "cell_type": "code",
   "execution_count": 2,
   "metadata": {},
   "outputs": [],
   "source": [
    "from iodata import load_one"
   ]
  },
  {
   "cell_type": "code",
   "execution_count": 3,
   "metadata": {},
   "outputs": [
    {
     "name": "stdout",
     "output_type": "stream",
     "text": [
      "Number of atoms    =  3\n",
      "Atomic numbers     =  [8 1 1]\n",
      "Atomic coordinates = \n",
      "[[-4.44734101  3.39697999  0.        ]\n",
      " [-2.58401495  3.55136194  0.        ]\n",
      " [-4.92380519  5.2049622   0.        ]]\n"
     ]
    }
   ],
   "source": [
    "# load FCHK file\n",
    "mol = load_one(\"data/h2o_sto3g.fchk\")\n",
    "\n",
    "print(\"Number of atoms    = \", mol.natom)\n",
    "print(\"Atomic numbers     = \", mol.atnums)\n",
    "print(\"Atomic coordinates = \")\n",
    "print(mol.atcoords)"
   ]
  },
  {
   "cell_type": "markdown",
   "metadata": {},
   "source": [
    "## Grid\n",
    "\n",
    "For more information check [Grid GitHub repository](https://github.com/theochem/grid)"
   ]
  },
  {
   "cell_type": "code",
   "execution_count": 4,
   "metadata": {},
   "outputs": [],
   "source": [
    "from grid.becke import BeckeWeights\n",
    "from grid.molgrid import MolGrid\n",
    "from grid.onedgrid import GaussChebyshev\n",
    "from grid.rtransform import BeckeTF"
   ]
  },
  {
   "cell_type": "code",
   "execution_count": 5,
   "metadata": {},
   "outputs": [
    {
     "name": "stdout",
     "output_type": "stream",
     "text": [
      "Grid points shape  =  (33000, 3)\n",
      "Grid weights shape =  (33000,)\n"
     ]
    }
   ],
   "source": [
    "# Make molecular grid (using grid package)\n",
    "oned = GaussChebyshev(100)\n",
    "rgrid = BeckeTF(1e-4, 1.5).transform_1d_grid(oned)\n",
    "grid = MolGrid.from_size(mol.atnums, mol.atcoords, rgrid, 110, BeckeWeights())\n",
    "\n",
    "print(\"Grid points shape  = \", grid.points.shape)\n",
    "print(\"Grid weights shape = \", grid.weights.shape)"
   ]
  },
  {
   "cell_type": "markdown",
   "metadata": {},
   "source": [
    "## GBasis\n",
    "\n",
    "For more information check [GBasis GitHub repository](https://github.com/theochem/gbasis)"
   ]
  },
  {
   "cell_type": "code",
   "execution_count": 6,
   "metadata": {},
   "outputs": [],
   "source": [
    "from gbasis.wrappers import from_iodata\n",
    "from gbasis.evals.density import evaluate_density"
   ]
  },
  {
   "cell_type": "code",
   "execution_count": 7,
   "metadata": {},
   "outputs": [
    {
     "name": "stdout",
     "output_type": "stream",
     "text": [
      "Density shape =  (33000,)\n"
     ]
    }
   ],
   "source": [
    "# Compute molecular density (using gbasis package)\n",
    "one_rdm = mol.one_rdms.get(\"post_scf\", mol.one_rdms.get(\"scf\"))\n",
    "if one_rdm is None:\n",
    "    if mol.mo is None:\n",
    "        raise ValueError(\n",
    "            \"The input file lacks wavefunction data with which \"\n",
    "            \"the density can be computed.\"\n",
    "        )\n",
    "    coeffs, occs = mol.mo.coeffs, mol.mo.occs\n",
    "    one_rdm = np.dot(coeffs * occs, coeffs.T)\n",
    "basis = from_iodata(mol)\n",
    "density = evaluate_density(one_rdm, basis[0], grid.points, coord_type=basis[1])\n",
    "\n",
    "print(\"Density shape = \", density.shape)"
   ]
  },
  {
   "cell_type": "markdown",
   "metadata": {},
   "source": [
    "## Denspart\n",
    "\n",
    "For more information check [Denspart GitHub repository](https://github.com/theochem/denspart)"
   ]
  },
  {
   "cell_type": "code",
   "execution_count": 8,
   "metadata": {},
   "outputs": [],
   "source": [
    "from denspart.mbis import MBISProModel\n",
    "from denspart.vh import optimize_reduce_pro_model\n",
    "from denspart.properties import compute_radial_moments, compute_multipole_moments, safe_ratio"
   ]
  },
  {
   "cell_type": "code",
   "execution_count": 9,
   "metadata": {},
   "outputs": [
    {
     "name": "stdout",
     "output_type": "stream",
     "text": [
      "Building local grids\n",
      "Integral of density: 10.000088051536862\n",
      "Optimization\n",
      "#Iter  #Call         ekld          kld  -constraint     grad.rms  cputime (s)\n",
      "-----  -----  -----------  -----------  -----------  -----------  -----------\n",
      "    1      1    0.5936396    0.5937277  -8.8052e-05   2.4770e-01    0.7150370\n",
      "    2      6    0.3753745    0.2911400   8.4234e-02   1.2533e-01    0.0141320\n",
      "    3     12    0.2686959    0.1705652   9.8131e-02   6.2372e-02    0.0141530\n",
      "    4     12    0.2686959    0.1705652   9.8131e-02   6.2372e-02    0.0141530\n",
      "    5     19    0.2305333    0.1914990   3.9034e-02   1.2143e-02    0.0139700\n",
      "    6     19    0.2305333    0.1914990   3.9034e-02   1.2143e-02    0.0139700\n",
      "    7     28    0.2244088    0.2004429   2.3966e-02   2.7924e-03    0.0153210\n",
      "    8     28    0.2244088    0.2004429   2.3966e-02   2.7924e-03    0.0153210\n",
      "    9     35    0.2242477    0.2167737   7.4740e-03   7.5061e-04    0.0145030\n",
      "   10     35    0.2242477    0.2167737   7.4740e-03   7.5061e-04    0.0145030\n",
      "   11     44    0.2242019    0.2246795  -4.7752e-04   1.6098e-04    0.0143740\n",
      "   12     49    0.2242017    0.2235882   6.1348e-04   1.4990e-04    0.0154030\n",
      "   13     49    0.2242017    0.2235882   6.1348e-04   1.4990e-04    0.0154030\n",
      "   14     55    0.2242016    0.2242931  -9.1466e-05   2.5131e-05    0.0137950\n",
      "   15     55    0.2242016    0.2242931  -9.1466e-05   2.5131e-05    0.0137950\n",
      "   16     62    0.2242016    0.2241677   3.3872e-05   6.4005e-06    0.0161200\n",
      "   17     62    0.2242016    0.2241677   3.3872e-05   6.4005e-06    0.0161200\n",
      "   18     72    0.2242016    0.2241966   4.9854e-06   9.7450e-07    0.0137390\n",
      "   19     72    0.2242016    0.2241966   4.9854e-06   9.7450e-07    0.0137390\n",
      "   20     77    0.2242016    0.2242015   6.4297e-08   2.0890e-07    0.0147060\n",
      "   21     77    0.2242016    0.2242015   6.4297e-08   2.0890e-07    0.0147060\n",
      "   22     83    0.2242016    0.2242020  -4.0743e-07   3.7569e-08    0.0142370\n",
      "   23     93    0.2242016    0.2242014   1.9950e-07   3.8787e-08    0.0146280\n",
      "-----  -----------  -----------  -----------  -----------  -----------\n",
      "Optimizer message: \"`gtol` termination condition is satisfied.\"\n",
      "Total charge:             -8.8051537e-05\n",
      "Sum atomic charges:       -8.8251032e-05\n",
      "Promodel\n",
      " ifn iatom  atn       parameters...\n",
      "   0     0    8       1.48539978     18.89314089\n",
      "   1     0    8       7.05786478      2.68720947\n",
      "   2     1    1       0.72833706      2.76425298\n",
      "   3     2    1       0.72848663      2.76378784\n",
      "Computing additional properties\n"
     ]
    }
   ],
   "source": [
    "# MBIS partitioning (using denspart package)\n",
    "pro_model_init = MBISProModel.from_geometry(mol.atnums, mol.atcoords)\n",
    "\n",
    "pro_model, localgrids = optimize_reduce_pro_model(\n",
    "    pro_model_init,\n",
    "    grid,\n",
    "    density,\n",
    "    # args.gtol,\n",
    "    # args.maxiter,\n",
    "    # args.density_cutoff,\n",
    ")\n",
    "print(\"Promodel\")\n",
    "pro_model.pprint()\n",
    "\n",
    "print(\"Computing additional properties\")\n",
    "results = pro_model.to_dict()\n",
    "\n",
    "results.update(\n",
    "    {\n",
    "        \"charges\": pro_model.charges,\n",
    "        \"radial_moments\": compute_radial_moments(\n",
    "            pro_model, grid, density, localgrids\n",
    "        ),\n",
    "        \"multipole_moments\": compute_multipole_moments(\n",
    "            pro_model, grid, density, localgrids\n",
    "        ),\n",
    "        # \"gtol\": args.gtol,\n",
    "        # \"maxiter\": args.maxiter,\n",
    "        # \"density_cutoff\": args.density_cutoff,\n",
    "    }\n",
    ")\n",
    "# np.savez_compressed(args.out_npz, **results)"
   ]
  },
  {
   "cell_type": "markdown",
   "metadata": {},
   "source": [
    "### Atomic Weights"
   ]
  },
  {
   "cell_type": "code",
   "execution_count": 10,
   "metadata": {},
   "outputs": [
    {
     "name": "stdout",
     "output_type": "stream",
     "text": [
      "Atom index =  0\n",
      " Computed Charge =  -0.5432644398016997\n",
      " Expected Charge =  -0.543264566552871\n",
      "\n",
      "Atom index =  1\n",
      " Computed Charge =  0.2716629962211814\n",
      " Expected Charge =  0.2716629419119454\n",
      "\n",
      "Atom index =  2\n",
      " Computed Charge =  0.27151342808814816\n",
      " Expected Charge =  0.2715133736087356\n",
      "\n"
     ]
    }
   ],
   "source": [
    "# Compute atomic weights\n",
    "pro = pro_model.compute_density(grid, localgrids)\n",
    "# result = np.zeros((pro_model.natom, nmax + 1))\n",
    "for iatom, atcoord in enumerate(pro_model.atcoords):\n",
    "    print(\"Atom index = \", iatom)\n",
    "    localgrid = grid.get_localgrid(atcoord, 8.0)\n",
    "    pro_atom = pro_model.compute_proatom(iatom, localgrid.points)\n",
    "    # ratio (copied from denspart properties module) is the ratio of molecular and promolecular density\n",
    "    # ratio = safe_ratio(density[localgrid.indices], pro[localgrid.indices])\n",
    "    # atomic weight\n",
    "    atweight = safe_ratio(pro_atom, pro[localgrid.indices])\n",
    "    # check: compute atomic population to make sure it matches expected values (from Denspart)\n",
    "    print(\" Computed Charge = \", mol.atnums[iatom] - localgrid.integrate(atweight * density[localgrid.indices]))\n",
    "    print(\" Expected Charge = \", pro_model.charges[iatom])\n",
    "    print(\"\")"
   ]
  }
 ],
 "metadata": {
  "kernelspec": {
   "display_name": "Python 3",
   "language": "python",
   "name": "python3"
  },
  "language_info": {
   "codemirror_mode": {
    "name": "ipython",
    "version": 3
   },
   "file_extension": ".py",
   "mimetype": "text/x-python",
   "name": "python",
   "nbconvert_exporter": "python",
   "pygments_lexer": "ipython3",
   "version": "3.6.10"
  },
  "toc": {
   "base_numbering": 1,
   "nav_menu": {},
   "number_sections": true,
   "sideBar": true,
   "skip_h1_title": false,
   "title_cell": "Table of Contents",
   "title_sidebar": "Contents",
   "toc_cell": false,
   "toc_position": {},
   "toc_section_display": true,
   "toc_window_display": false
  }
 },
 "nbformat": 4,
 "nbformat_minor": 4
}
